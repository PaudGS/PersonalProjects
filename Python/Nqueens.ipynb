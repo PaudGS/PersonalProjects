{
 "cells": [
  {
   "cell_type": "code",
   "execution_count": 28,
   "metadata": {},
   "outputs": [],
   "source": [
    "import random"
   ]
  },
  {
   "cell_type": "code",
   "execution_count": 29,
   "metadata": {},
   "outputs": [],
   "source": [
    "class Board:\n",
    "    def __init__(self, board_size):\n",
    "        self.board_size = board_size\n",
    "        self.board = init_board(board_size)\n",
    "        self.h = 0\n",
    "    \n",
    "    def update_h(self):\n",
    "        self.h = heuristic_function(self)\n",
    "    \n",
    "    def insert_queen(self, queen):\n",
    "        self.board[queen.row][queen.col] = 2\n",
    "        update_row(queen, self)\n",
    "        update_col(queen, self)\n",
    "        update_diagonal_left(queen, self)\n",
    "        update_diagonal_right(queen, self)\n",
    "    \n",
    "    def copy_board(self):\n",
    "        board = Board(self.board_size)\n",
    "        for row in range(self.board_size):\n",
    "            for col in range(self.board_size):\n",
    "                board.board[row][col] = self.board[row][col]\n",
    "        return board"
   ]
  },
  {
   "cell_type": "code",
   "execution_count": 30,
   "metadata": {},
   "outputs": [],
   "source": [
    "class Queen:\n",
    "    def __init__(self,x,y):\n",
    "        self.row = x\n",
    "        self.col = y\n",
    "    def __str__(self):\n",
    "        return \"[\" + str(self.row) + \",\" + str(self.col) + \"]\""
   ]
  },
  {
   "cell_type": "code",
   "execution_count": 31,
   "metadata": {},
   "outputs": [],
   "source": [
    "def init_board(board_size):\n",
    "    board = []\n",
    "    for i in range(1,board_size+1):\n",
    "        llista = []\n",
    "        for j in range(1,board_size+1):\n",
    "            llista.append(0)\n",
    "        board.append(llista)\n",
    "    return(board)"
   ]
  },
  {
   "cell_type": "code",
   "execution_count": 32,
   "metadata": {},
   "outputs": [],
   "source": [
    "def update_row(queen, board):\n",
    "    for i in range (board.board_size):\n",
    "        if (i != queen.col):\n",
    "            board.board[queen.row][i] = 1"
   ]
  },
  {
   "cell_type": "code",
   "execution_count": 33,
   "metadata": {},
   "outputs": [],
   "source": [
    "def update_col(queen, board):\n",
    "    for i in range (queen.row+1,board.board_size):\n",
    "        board.board[i][queen.col] = 1"
   ]
  },
  {
   "cell_type": "code",
   "execution_count": 34,
   "metadata": {},
   "outputs": [],
   "source": [
    "def update_diagonal_left(queen, board):\n",
    "    j = 1\n",
    "    for i in range (min(queen.col-1,board.board_size-queen.row), -1, -1):\n",
    "        if(queen.row+j<board.board_size):\n",
    "            board.board[queen.row+j][queen.col-j] = 1\n",
    "            j+=1"
   ]
  },
  {
   "cell_type": "code",
   "execution_count": 35,
   "metadata": {},
   "outputs": [],
   "source": [
    "def update_diagonal_right(queen, board):\n",
    "    j = 1\n",
    "    for i in range (max(queen.col+1,queen.row+1), board.board_size):\n",
    "        board.board[queen.row+j][queen.col+j] = 1\n",
    "        j+=1"
   ]
  },
  {
   "cell_type": "code",
   "execution_count": 36,
   "metadata": {},
   "outputs": [],
   "source": [
    "    def heuristic_function(board):\n",
    "        count = 0\n",
    "        count2 = 0\n",
    "        for i in range(board.board_size):\n",
    "                count = sum(board.board[i])\n",
    "                if(count != board.board_size+1):\n",
    "                    count2 += count\n",
    "        \n",
    "        return count2/(where_is_the_last_queen(board)+1)"
   ]
  },
  {
   "cell_type": "code",
   "execution_count": 37,
   "metadata": {},
   "outputs": [],
   "source": [
    "def get_zeros(llista):\n",
    "    zeros = []\n",
    "    for i in range(len(llista)):\n",
    "        if(llista[i] == 0):\n",
    "            zeros.append(i)\n",
    "    return zeros"
   ]
  },
  {
   "cell_type": "code",
   "execution_count": 38,
   "metadata": {},
   "outputs": [],
   "source": [
    "def insert_sorted_h(board_list, board):\n",
    "    i=0\n",
    "    while(i < len(board_list) and board_list[i].h < board.h):\n",
    "        i+=1\n",
    "    board_list.insert(i,board)\n",
    "    return board_list"
   ]
  },
  {
   "cell_type": "code",
   "execution_count": 39,
   "metadata": {},
   "outputs": [],
   "source": [
    "def where_is_the_last_queen(board):\n",
    "    for i in board.board:\n",
    "        if 2 not in i:\n",
    "            return board.board.index(i)\n",
    "    return board.board_size"
   ]
  },
  {
   "cell_type": "code",
   "execution_count": 42,
   "metadata": {},
   "outputs": [
    {
     "name": "stdout",
     "output_type": "stream",
     "text": [
      "You found the solution in 1651 iterations:\n"
     ]
    },
    {
     "data": {
      "text/plain": [
       "[[1, 1, 1, 1, 1, 1, 1, 2],\n",
       " [1, 2, 1, 1, 1, 1, 1, 1],\n",
       " [1, 1, 1, 2, 1, 1, 1, 1],\n",
       " [2, 1, 1, 1, 1, 1, 1, 1],\n",
       " [1, 1, 1, 1, 1, 1, 2, 1],\n",
       " [1, 1, 1, 1, 2, 1, 1, 1],\n",
       " [1, 1, 2, 1, 1, 1, 1, 1],\n",
       " [1, 1, 1, 1, 1, 2, 1, 1]]"
      ]
     },
     "execution_count": 42,
     "metadata": {},
     "output_type": "execute_result"
    }
   ],
   "source": [
    "chess = Board(8)\n",
    "board_list = []\n",
    "board_list.append(chess)\n",
    "it = 0\n",
    "\n",
    "while(where_is_the_last_queen(board_list[0]) != chess.board_size):\n",
    "    \n",
    "    chess = board_list.pop(0)\n",
    "    current_row = where_is_the_last_queen(chess)\n",
    "    llista = get_zeros(chess.board[current_row])\n",
    "    random.shuffle(llista)\n",
    "\n",
    "    for i in range(len(llista)):\n",
    "        board = chess.copy_board()\n",
    "        board.insert_queen(Queen(current_row,llista[i]))\n",
    "        #board.update_h()\n",
    "        #insert_sorted_h(board_list, board)\n",
    "        board_list.insert(0,board)\n",
    "    it += 1\n",
    "\n",
    "print(\"You found the solution in\", it, \"iterations:\")\n",
    "board_list[0].board\n",
    "    \n",
    "    "
   ]
  },
  {
   "cell_type": "code",
   "execution_count": null,
   "metadata": {},
   "outputs": [],
   "source": []
  }
 ],
 "metadata": {
  "kernelspec": {
   "display_name": "Python 3 (ipykernel)",
   "language": "python",
   "name": "python3"
  },
  "language_info": {
   "codemirror_mode": {
    "name": "ipython",
    "version": 3
   },
   "file_extension": ".py",
   "mimetype": "text/x-python",
   "name": "python",
   "nbconvert_exporter": "python",
   "pygments_lexer": "ipython3",
   "version": "3.10.5"
  }
 },
 "nbformat": 4,
 "nbformat_minor": 4
}
